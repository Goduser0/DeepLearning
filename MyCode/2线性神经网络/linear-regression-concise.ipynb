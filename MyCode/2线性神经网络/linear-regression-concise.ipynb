{
 "cells": [
  {
   "cell_type": "code",
   "execution_count": 1,
   "metadata": {},
   "outputs": [],
   "source": [
    "import numpy as np\n",
    "import torch\n",
    "from torch.utils import data\n",
    "from d2l import torch as d2l\n",
    "\n",
    "true_w=torch.tensor([2,-3.4])\n",
    "true_b=4.2\n",
    "features,labels=d2l.synthetic_data(true_w,true_b,1000)"
   ]
  },
  {
   "cell_type": "code",
   "execution_count": 2,
   "metadata": {},
   "outputs": [
    {
     "data": {
      "text/plain": [
       "[tensor([[ 2.8561,  0.4627],\n",
       "         [ 0.1432,  0.1054],\n",
       "         [ 2.1237, -1.0292],\n",
       "         [-0.9115, -1.6148],\n",
       "         [-0.4663, -2.0447],\n",
       "         [-2.2243,  0.1417],\n",
       "         [-0.3927,  1.0870],\n",
       "         [ 0.5863, -0.6979],\n",
       "         [-0.1335,  1.0782],\n",
       "         [-0.5109, -1.5768]]),\n",
       " tensor([[ 8.3459],\n",
       "         [ 4.1281],\n",
       "         [11.9548],\n",
       "         [ 7.8579],\n",
       "         [10.2374],\n",
       "         [-0.7449],\n",
       "         [-0.2873],\n",
       "         [ 7.7325],\n",
       "         [ 0.2642],\n",
       "         [ 8.5369]])]"
      ]
     },
     "execution_count": 2,
     "metadata": {},
     "output_type": "execute_result"
    }
   ],
   "source": [
    "# 构造数据迭代器\n",
    "def load_array(data_arrays,batch_size,is_train=True):\n",
    "    dataset=data.TensorDataset(*data_arrays)\n",
    "    return data.DataLoader(dataset,batch_size,shuffle=is_train)\n",
    "\n",
    "batch_size=10\n",
    "data_iter=load_array((features,labels),batch_size)\n",
    "\n",
    "next(iter(data_iter))"
   ]
  },
  {
   "cell_type": "code",
   "execution_count": 3,
   "metadata": {},
   "outputs": [],
   "source": [
    "from torch import nn #nn为神经网络缩写\n",
    "net=nn.Sequential(nn.Linear(2,1)) #加入输入为2输出为1的线性层，"
   ]
  },
  {
   "cell_type": "code",
   "execution_count": 12,
   "metadata": {},
   "outputs": [
    {
     "data": {
      "text/plain": [
       "(tensor([[0.0031, 0.0085]]), tensor([0.]))"
      ]
     },
     "execution_count": 12,
     "metadata": {},
     "output_type": "execute_result"
    }
   ],
   "source": [
    "#初始化模型参数\n",
    "net[0].weight.data.normal_(0,0.01) #w用均值为0，方差为1的分布来代替\n",
    "net[0].bias.data.fill_(0) #b用0来代替\n",
    "net[0].weight.data,net[0].bias.data"
   ]
  },
  {
   "cell_type": "code",
   "execution_count": 8,
   "metadata": {},
   "outputs": [],
   "source": [
    "#计算均方误差\n",
    "loss=nn.MSELoss()\n",
    "#实例化SGD实例\n",
    "trainer=torch.optim.SGD(net.parameters(),lr=0.03) #net.parameters()表示取出net的所有参数"
   ]
  },
  {
   "cell_type": "code",
   "execution_count": 23,
   "metadata": {},
   "outputs": [
    {
     "name": "stdout",
     "output_type": "stream",
     "text": [
      "epoch1,loss0.000103\n",
      "epoch2,loss0.000103\n",
      "epoch3,loss0.000102\n"
     ]
    }
   ],
   "source": [
    "num_epochs=3\n",
    "for epoch in range(num_epochs):\n",
    "    for X,y in data_iter:\n",
    "        l=loss(net(X),y)\n",
    "        trainer.zero_grad()\n",
    "        l.backward()\n",
    "        trainer.step()\n",
    "    l=loss(net(features),labels)\n",
    "    print(f'epoch{epoch+1},loss{l:f}')\n"
   ]
  }
 ],
 "metadata": {
  "kernelspec": {
   "display_name": "Python 3.9.13 64-bit",
   "language": "python",
   "name": "python3"
  },
  "language_info": {
   "codemirror_mode": {
    "name": "ipython",
    "version": 3
   },
   "file_extension": ".py",
   "mimetype": "text/x-python",
   "name": "python",
   "nbconvert_exporter": "python",
   "pygments_lexer": "ipython3",
   "version": "3.9.13"
  },
  "orig_nbformat": 4,
  "vscode": {
   "interpreter": {
    "hash": "fd6fea355522f5d03011281e8b79f97380be3f5d3a4f423dda187c1a42b428a4"
   }
  }
 },
 "nbformat": 4,
 "nbformat_minor": 2
}
